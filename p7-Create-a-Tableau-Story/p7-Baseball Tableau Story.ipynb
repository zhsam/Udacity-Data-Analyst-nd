{
 "cells": [
  {
   "cell_type": "markdown",
   "metadata": {},
   "source": [
    "## Project 7- Create a Tableau Story - Baseball dataset"
   ]
  },
  {
   "cell_type": "markdown",
   "metadata": {},
   "source": [
    "This is a project for Udacity Data Analyst Nanodegree Term2 Lesson 9."
   ]
  },
  {
   "cell_type": "markdown",
   "metadata": {},
   "source": [
    "## Intro\n",
    "\n",
    "This project investivates a data set containing 1,157 baseball players including their handedness (right or left handed), height (in inches), weight (in pounds), batting average, and home runs using Tableau.\n",
    "\n",
    "The data used in this project can be found on this [link](https://s3.amazonaws.com/udacity-hosted-downloads/ud507/baseball_data.csv)\n",
    "\n",
    "The goal of the project is to create a visualization that shows differences among the performance of the baseball players.\n",
    "\n",
    "### Questions\n",
    "The following are some questions that I wish to answer through the visualization using Tableau:\n",
    "\n",
    "#### Basics:\n",
    "- What is the distribution of height and weight among players?\n",
    "- What is the distribution of handedness among players in this dataset?\n",
    "- What is the distribution of BMI among players in this dataset?\n",
    "- What is the distribution of bating average among players in this dataset?\n",
    "- What is the distribution of Home Runs among players in this dataset?\n",
    "\n",
    "#### Effects of Handedness:\n",
    "- What is the relationship between home runs and handedness?\n",
    "- What is the relationship between batting average and handedness?\n",
    "\n",
    "#### Relationship btw HRs and X:\n",
    "- What is the relationship between home runs and batting average?\n",
    "- What is the relationship between home runs and weight?\n",
    "\n",
    "### Final Visualizations\n",
    "- The final tableau story adjusting from the feedback can be found on this [link](https://public.tableau.com/profile/sam4505#!/vizhome/BaseballStory-DAND-v2/BaseballStory?publish=yes).\n",
    "- The first version can be found on this [link](https://public.tableau.com/profile/sam4505#!/vizhome/BaseballStory-DAND/BaseballStory).\n"
   ]
  },
  {
   "cell_type": "markdown",
   "metadata": {},
   "source": [
    "## Summary\n",
    "\n",
    "Here are some interesting insights I found in the data:\n",
    "- Left-handed players seem to be a great choice as higher batting average and lifetime home runs while most players are right-handed; both-handed doesn't go well.\n",
    "- Player with the highest limetime home runs don't have the largest batting avg. Weight seems to have nothing to do with Lifetime Home Runs.\n",
    "\n",
    "Here are something you should notice before dive in to the visualization:\n",
    "- This dataset contains players' height, weight, handedness, average batting rates, lifetime home runs.\n",
    "- Batting rate is counted as lifetime average and home runs are counted as lifetime accumulation."
   ]
  },
  {
   "cell_type": "markdown",
   "metadata": {},
   "source": [
    "## Design\n",
    "In this section, I will talk about the chart type, visual encodings I used for this Tableau story and why.\n",
    "\n",
    "### Scatter plot -- Height-Weight, HomeRuns-Batting avg., Weight-HomeRuns\n",
    "I chose scatter plot for these 3 plots since it's better for scatter plot to demonstrate the distribution between 2 variables. \n",
    "\n",
    "Note that I placed \"name\" in color marks since compared to other marks like size, shape or detail, we can more easily tell the difference when the data points are close to each other.\n",
    "\n",
    "### Box plot -- BMI, avg-batting, HomeRuns distribution\n",
    "I chose box plot for BMIs, averafe batting rate and homeruns distribution since this gave me some basic infos for the data such as median, upper/lower hinge, upper/lower whisker. \n",
    "\n",
    "Note that since average people don't have BMIs around 0-15, I actually zoomed in the data to only demonstrates datas that have BMIs between 18-32. \n",
    "\n",
    "### Bar chart -- handedness, batting-handedness, HR-handedness\n",
    "For handedness, batting-handedness and HR-handedness, I chose bar chart as visualization. This is due to the fact that one can easily compared the numbers of players within each categories -- left-handed, right-handed and both-handed."
   ]
  },
  {
   "cell_type": "markdown",
   "metadata": {},
   "source": [
    "## Feedback\n",
    "In this section, I demonstrated my Tableau story to one of my best friend: Tony and iterate my Tableau story according to his feedback.\n",
    "\n",
    "### Here are the first and final version of my visualizations:\n",
    "- The first version can be found on this [link](https://public.tableau.com/profile/sam4505#!/vizhome/BaseballStory-DAND/BaseballStory).\n",
    "- The final tableau story adjusting from the feedback can be found on this [link](https://public.tableau.com/profile/sam4505#!/vizhome/BaseballStory-DAND-v2/BaseballStory?publish=yes).\n",
    "\n",
    "### The following are the original feedback I collected from Tony:\n",
    "\n",
    "<b>What do you notice in the visualization?</b>\n",
    "\n",
    "The largest weight of the player is 111 kg. It seems that as the player has to run between bases there's limitation of their weight.\n",
    "\n",
    "There might be some typos: batting-avg-Bar, HR-Bar --> Box. \n",
    "\n",
    "The text box on the top is too small, you have to scroll in order to see all the text.\n",
    "\n",
    "<b>What questions do you have about the data?</b>\n",
    "\n",
    "What is the source of this dataset? there's no Derek Jeter or Chien-Ming Wang. Is it due to the dataset is collected in the old days or is there some data missing?\n",
    "\n",
    "Home runs should be accumulated through out their lifetime, but there's no proper legends and the batting is counted as average. In the first glance, I thought home runs is also counted as average.\n",
    "\n",
    "What is the relationship between weight and home runs? Does players with larger weight has larger amount of home runs?\n",
    "\n",
    "<b>What relationships do you notice?</b>\n",
    "\n",
    "Left-handed players has higher batting average and home runs this may also be a selection bias(Better player tend to practice becoming left-handed player as is better for base running)\n",
    "\n",
    "<b>What do you think is the main takeaway from this visualization?</b>\n",
    "\n",
    "If you want to gain better batting average, you should practice becomming lef-handed. Player with both handed on the contrary had worse total home runs.\n",
    "\n",
    "<b>Is there something you don’t understand in the graphic?</b>\n",
    "\n",
    "What does the uppper, lower line in the box plot refers to?"
   ]
  },
  {
   "cell_type": "markdown",
   "metadata": {},
   "source": [
    "## Resources\n",
    "Here are some resources that help we went through the whole project.\n",
    "\n",
    "- In order to get to recap how Tableau works, I re-watch the video where Udacity has great [converstion with Trina](https://www.youtube.com/watch?v=i9xslfFp80g).\n",
    "- [Cannot save my workbook to Tableau Public](https://community.tableau.com/thread/221113)\n",
    "- [Internal Error - An unexpected error occurred and the operation could not be completed.](https://community.tableau.com/thread/241693)"
   ]
  }
 ],
 "metadata": {
  "kernelspec": {
   "display_name": "Python 3",
   "language": "python",
   "name": "python3"
  },
  "language_info": {
   "codemirror_mode": {
    "name": "ipython",
    "version": 3
   },
   "file_extension": ".py",
   "mimetype": "text/x-python",
   "name": "python",
   "nbconvert_exporter": "python",
   "pygments_lexer": "ipython3",
   "version": "3.6.3"
  }
 },
 "nbformat": 4,
 "nbformat_minor": 2
}
